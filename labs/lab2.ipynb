{
 "cells": [
  {
   "cell_type": "markdown",
   "metadata": {},
   "source": [
    "# Лабораторная работа №2"
   ]
  },
  {
   "cell_type": "code",
   "execution_count": 1,
   "metadata": {
    "collapsed": false
   },
   "outputs": [],
   "source": [
    "(define head car)\n",
    "(define tail cdr)"
   ]
  },
  {
   "cell_type": "code",
   "execution_count": 2,
   "metadata": {
    "collapsed": true
   },
   "outputs": [],
   "source": [
    "(define (filter lst)\n",
    "  (print lst)\n",
    "  (if (null? (tail lst))\n",
    "      (if (number? (head lst))\n",
    "          lst\n",
    "          `())\n",
    "      (if (number? (head lst))\n",
    "          (cons (head lst) (filter (tail lst)))\n",
    "          (append `() (filter (tail lst))))))"
   ]
  },
  {
   "cell_type": "code",
   "execution_count": 3,
   "metadata": {
    "collapsed": false
   },
   "outputs": [
    {
     "name": "stdout",
     "output_type": "stream",
     "text": [
      "(1 2 3 4 5 \"a\")\n",
      "(2 3 4 5 \"a\")\n",
      "(3 4 5 \"a\")\n",
      "(4 5 \"a\")\n",
      "(5 \"a\")\n",
      "(\"a\")\n"
     ]
    },
    {
     "data": {
      "text/plain": [
       "(1 2 3 4 5)"
      ]
     },
     "execution_count": 3,
     "metadata": {},
     "output_type": "execute_result"
    }
   ],
   "source": [
    "(filter `(1 2 3 4 5 \"a\"))"
   ]
  }
 ],
 "metadata": {
  "kernelspec": {
   "display_name": "Calysto Scheme 3",
   "language": "scheme",
   "name": "calysto_scheme"
  },
  "language_info": {
   "codemirror_mode": {
    "name": "scheme"
   },
   "mimetype": "text/x-scheme",
   "name": "scheme",
   "pygments_lexer": "scheme"
  }
 },
 "nbformat": 4,
 "nbformat_minor": 2
}
