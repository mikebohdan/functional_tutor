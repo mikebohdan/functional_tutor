{
 "cells": [
  {
   "cell_type": "markdown",
   "metadata": {},
   "source": [
    "# Лабораторная работа №3\n",
    "### вариант №2\n",
    "Построение графика заданой функции"
   ]
  },
  {
   "cell_type": "markdown",
   "metadata": {},
   "source": [
    "Для начала определим константы и проманкипатчим недостающие функции"
   ]
  },
  {
   "cell_type": "code",
   "execution_count": 1,
   "metadata": {
    "collapsed": false
   },
   "outputs": [],
   "source": [
    "(import \"math\")\n",
    "(define PI math.pi)\n",
    "(define ALPHA 1.0)\n",
    "(define sin math.sin)\n",
    "(define cos math.cos)\n",
    "(define head car)\n",
    "(define tail cdr)"
   ]
  },
  {
   "cell_type": "markdown",
   "metadata": {},
   "source": [
    "определим функцию создания промежутка с шагом"
   ]
  },
  {
   "cell_type": "code",
   "execution_count": 2,
   "metadata": {
    "collapsed": false
   },
   "outputs": [],
   "source": [
    "(define (range start finish delta)\n",
    "  (define current (+ start delta))\n",
    "  (if (> current finish)\n",
    "      `()\n",
    "      (cons current (range current finish delta))))"
   ]
  },
  {
   "cell_type": "markdown",
   "metadata": {},
   "source": [
    "определим функцию нахождения радиусов в радиальной системе координат"
   ]
  },
  {
   "cell_type": "code",
   "execution_count": 3,
   "metadata": {
    "collapsed": false
   },
   "outputs": [],
   "source": [
    "(define (cissoidOfDioclesFunction x)\n",
    "  (define (double x) (* 2 x))\n",
    "  (define (square x) (* x x))\n",
    "  (define (factor x)\n",
    "    (* (double ALPHA)\n",
    "       (square (sin x))))\n",
    "  (/ (factor x) (cos x)))"
   ]
  },
  {
   "cell_type": "markdown",
   "metadata": {},
   "source": [
    "создадим список углов"
   ]
  },
  {
   "cell_type": "code",
   "execution_count": 4,
   "metadata": {
    "collapsed": false
   },
   "outputs": [],
   "source": [
    "(define phis (let((phi_min (- (/ PI 2)))\n",
    "                  (phi_max (/ PI 2))\n",
    "                  (delta (/ PI 50)))\n",
    "             (range phi_min phi_max delta)))"
   ]
  },
  {
   "cell_type": "markdown",
   "metadata": {},
   "source": [
    "для каждого угла найдем значение радиуса с помощью функции определенной ранее"
   ]
  },
  {
   "cell_type": "code",
   "execution_count": 5,
   "metadata": {
    "collapsed": false
   },
   "outputs": [],
   "source": [
    "(define rs (map cissoidOfDioclesFunction phis))"
   ]
  },
  {
   "cell_type": "markdown",
   "metadata": {},
   "source": [
    "приведем полученые данный к декартовой системе координат"
   ]
  },
  {
   "cell_type": "code",
   "execution_count": 6,
   "metadata": {
    "collapsed": false
   },
   "outputs": [],
   "source": [
    "(define xs (map (lambda (x) (apply * x)) (zip rs (map (lambda (x) (cos x)) phis))))\n",
    "(define ys (map (lambda (x) (apply * x)) (zip rs (map (lambda (x) (sin x)) phis))))"
   ]
  },
  {
   "cell_type": "markdown",
   "metadata": {},
   "source": [
    "строим график по полученым точкам"
   ]
  },
  {
   "cell_type": "code",
   "execution_count": null,
   "metadata": {
    "collapsed": false
   },
   "outputs": [],
   "source": [
    "(import-as \"matplotlib.pyplot\" 'plt)\n",
    "(plt.plot xs ys)\n",
    "(plt.grid True)\n",
    "(plt.axis \"equal\")\n",
    "(plt.show)"
   ]
  }
 ],
 "metadata": {
  "kernelspec": {
   "display_name": "Calysto Scheme 3",
   "language": "scheme",
   "name": "calysto_scheme"
  },
  "language_info": {
   "codemirror_mode": {
    "name": "scheme"
   },
   "mimetype": "text/x-scheme",
   "name": "scheme",
   "pygments_lexer": "scheme"
  }
 },
 "nbformat": 4,
 "nbformat_minor": 2
}
