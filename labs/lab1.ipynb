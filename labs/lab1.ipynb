{
 "cells": [
  {
   "cell_type": "markdown",
   "metadata": {},
   "source": [
    "# Лабораторная работа №1\n",
    "## вариант №2"
   ]
  },
  {
   "cell_type": "markdown",
   "metadata": {},
   "source": [
    "### задание №1 "
   ]
  },
  {
   "cell_type": "code",
   "execution_count": null,
   "metadata": {
    "collapsed": true
   },
   "outputs": [],
   "source": [
    "(define (equation x)\n",
    "  (define (square x)\n",
    "    (* x x))\n",
    "  (define (double x)\n",
    "    (* 2 x))\n",
    "  (abs (+ (double (square x))\n",
    "          (- x)\n",
    "          1)))"
   ]
  },
  {
   "cell_type": "code",
   "execution_count": null,
   "metadata": {
    "collapsed": false
   },
   "outputs": [],
   "source": [
    "(equation 4)"
   ]
  },
  {
   "cell_type": "markdown",
   "metadata": {},
   "source": [
    "### задание №2 (переписать функцию с использованием оперторов ветвления)"
   ]
  },
  {
   "cell_type": "code",
   "execution_count": null,
   "metadata": {
    "collapsed": true
   },
   "outputs": [],
   "source": [
    "(define (equationCond x)\n",
    "  (define (square x) (* x x))\n",
    "  (define (double x) (* 2 x))\n",
    "  (define (doubleSquare x) (double (square x)))\n",
    "  (define (absolute x)\n",
    "    (cond ((> x 0) x)\n",
    "          (- x)))\n",
    "  (absolute (+ (doubleSquare x)\n",
    "               (- x)\n",
    "               2)))"
   ]
  },
  {
   "cell_type": "code",
   "execution_count": null,
   "metadata": {
    "collapsed": false
   },
   "outputs": [],
   "source": [
    "(equationCond 4)"
   ]
  },
  {
   "cell_type": "markdown",
   "metadata": {},
   "source": [
    "### задание №3 (написать функцию с использованием управляющих конструкций"
   ]
  },
  {
   "cell_type": "markdown",
   "metadata": {},
   "source": [
    "#### с использованием рекурсии"
   ]
  },
  {
   "cell_type": "code",
   "execution_count": 1,
   "metadata": {
    "collapsed": false
   },
   "outputs": [
    {
     "data": {
      "text/plain": [
       "153"
      ]
     },
     "execution_count": 1,
     "metadata": {},
     "output_type": "execute_result"
    }
   ],
   "source": [
    "(define (sumOfFactorials x)\n",
    "  (define (factorial x)\n",
    "    (if (= x 0)\n",
    "        1\n",
    "        (* x (factorial (- x 1)))))\n",
    "  (if (= x 0) 0\n",
    "      (+ (factorial x)\n",
    "         (sumOfFactorials (- x 1)))))\n",
    "\n",
    "(sumOfFactorials 5)"
   ]
  },
  {
   "cell_type": "markdown",
   "metadata": {},
   "source": [
    "#### с использованием `do` без тела\n",
    "Данный код не работает из-за особенностей `calysto-kernel`. Для запуска использовать\n",
    "```\n",
    "$ scheme < 1_3_do.scm\n",
    "```\n",
    "в папке `functional_tutor/labs/`"
   ]
  },
  {
   "cell_type": "code",
   "execution_count": 103,
   "metadata": {
    "collapsed": false
   },
   "outputs": [],
   "source": [
    "(define (sumOfFactorialsDo x)\n",
    "  (define (fact x)\n",
    "    (do ((i x (- i 1))\n",
    "         (rez 1 (* rez i)))\n",
    "        ((= i 0) rez)))\n",
    "  (do ((i x (- i 1))\n",
    "       (rez 0 (+ rez (fact i))))\n",
    "      ((= i 0) rez)))"
   ]
  },
  {
   "cell_type": "markdown",
   "metadata": {},
   "source": [
    "#### с использованием `do` с телом\n",
    "данный код не работает из-за ошибке в `calysto-kernel`. Для запуска использовать\n",
    "```\n",
    "$ scheme < 1_3_do_body.scm\n",
    "```\n",
    "в папке `functional_tutor/labs/`"
   ]
  },
  {
   "cell_type": "code",
   "execution_count": 104,
   "metadata": {
    "collapsed": true
   },
   "outputs": [],
   "source": [
    "(define (sumOfFactorialsDoBody x)\n",
    "  (define (fact x)\n",
    "    (define rez 1)\n",
    "    (do ((i x (- i 1)))\n",
    "        ((= i 0) rez)\n",
    "        (set! rez (* rez i))))\n",
    "  (define sum 0)\n",
    "  (do ((i x (- i 1)))\n",
    "      ((= i 0) sum)\n",
    "      (set! sum (+ sum (fact i)))))"
   ]
  },
  {
   "cell_type": "code",
   "execution_count": null,
   "metadata": {
    "collapsed": false
   },
   "outputs": [],
   "source": [
    "(define (sumOfFactorial x)\n",
    "  (define (range x)\n",
    "    (if (= x 0) `()\n",
    "        (cons x (range (- x 1)))))\n",
    "  (define (fact x) (apply * (range x)))\n",
    "  (apply + (map fact (range x))))\n",
    "(sumOfFactorial 5)"
   ]
  }
 ],
 "metadata": {
  "kernelspec": {
   "display_name": "Calysto Scheme 3",
   "language": "scheme",
   "name": "calysto_scheme"
  },
  "language_info": {
   "codemirror_mode": {
    "name": "scheme"
   },
   "mimetype": "text/x-scheme",
   "name": "scheme",
   "pygments_lexer": "scheme"
  }
 },
 "nbformat": 4,
 "nbformat_minor": 2
}
